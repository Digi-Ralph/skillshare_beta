{
  "cells": [
    {
      "cell_type": "markdown",
      "metadata": {
        "id": "OMeWefGDj1-X"
      },
      "source": [
        "**PUT this code to console in browser to prevent colab from disconnecting**\n",
        "\n",
        "function ConnectButton(){\n",
        "    console.log(\"Connect pushed\"); \n",
        "    document.querySelector(\"#top-toolbar > colab-connect-button\").shadowRoot.querySelector(\"#connect\").click() \n",
        "}\n",
        "setInterval(ConnectButton,60000);"
      ]
    },
    {
      "cell_type": "code",
      "execution_count": null,
      "metadata": {
        "cellView": "form",
        "id": "xunEYHutBEv_"
      },
      "outputs": [],
      "source": [
        "#@markdown <h3>⬅️ Run This Cell to Install Skillshare-DL Requirements</h3>\n",
        "import random, string, urllib.request, json, getpass, os, IPython, uuid\n",
        "import ipywidgets as widgets\n",
        "\n",
        "from IPython.display import HTML, clear_output\n",
        "\n",
        "loadingBtn = widgets.Button(description = \"Installing\",\n",
        "                          disabled = True,\n",
        "                          button_style = 'warning', # 'success', 'info', 'warning', 'danger' or '' \n",
        "                          tooltip = \"Installing\",\n",
        "                          icon = 'check')\n",
        "display(loadingBtn)\n",
        "\n",
        "if not os.path.exists(\"/opt/python3.7\"):\n",
        "  get_ipython().system_raw(\"rm -rf /content/sample_data/ && sudo apt update && sudo apt install software-properties-common\")\n",
        "  get_ipython().system_raw(\"sudo add-apt-repository ppa:deadsnakes/ppa\")\n",
        "  get_ipython().system_raw(\"sudo apt-get install python3.7\")\n",
        "  get_ipython().system_raw(\"sudo apt-get install python3-pip\")\n",
        "  get_ipython().system_raw(\"python3.7 -m pip install --upgrade pip setuptools wheel\")\n",
        "  get_ipython().system_raw(\"git clone https://github.com/Digi-Ralph/skillshare_beta.git' /root/.Skillshare_beta\")\n",
        "  get_ipython().system_raw(\"rm -r /root/.Skillshare_beta/Skillshare_DL_[KENWAY].ipynb\")\n",
        "  clear_output()\n",
        "\n",
        "try:\n",
        "  get_ipython().system_raw(\"python3.7 -m pip -q install -r /root/.Skillshare_beta/requirements.txt\")\n",
        "  display(HTML(\"<center><h2 style=\\\"font-family:Trebuchet MS;color:#4f8bd6;\\\">Successfully Configured!</h2><br></center>\"))\n",
        "  \n",
        "except:\n",
        "  display(HTML(\"<center><h2 style=\\\"font-family:Trebuchet MS;color:#ff0000;\\\">Error Occured, Rerun the Cell!!</h2><br></center>\"))\n",
        "!sudo apt-get install python3.7-distutils\n",
        "!sudo apt-get install python3.7\n",
        "!python3.7 -m pip install python-slugify\n",
        "!python3.7 -m pip install request\n",
        "!python3.7 -m pip install cloudscraper\n",
        "!sudo apt install rclone"
      ]
    },
    {
      "cell_type": "code",
      "execution_count": null,
      "metadata": {
        "cellView": "form",
        "id": "GMcXn3WTIYfo"
      },
      "outputs": [],
      "source": [
        "#@markdown <h3>⬅️ Run this Cell to Download Skillshare Course</h3>\n",
        "#@markdown <h3>Enter course link without /en </h3>\n",
        "Course_Link = \"\" #@param {type:\"string\"}\n",
        "!python3.7 /root/.Skillshare-DL/dl.py \"$Course_Link\""
      ]
    },
    {
      "cell_type": "code",
      "execution_count": null,
      "metadata": {
        "cellView": "form",
        "id": "eJnZhvAEmhDZ"
      },
      "outputs": [],
      "source": [
        "#@markdown <h3>⬅️Run this cell to upload rclone.conf file</h3>\n",
        "import json\n",
        "from google.colab import files\n",
        "!mkdir /root/.config/rclone\n",
        "!rm -f /content/rclone.conf\n",
        "uploaded = files.upload()\n",
        "!yes | cp -rf /content/rclone.conf /root/.config/rclone/rclone.conf"
      ]
    },
    {
      "cell_type": "code",
      "execution_count": null,
      "metadata": {
        "cellView": "form",
        "id": "tTVkURopsAxH"
      },
      "outputs": [],
      "source": [
        "#@markdown <h3>⬅ Run This Cell to  Mount Gdrive (optional)\n",
        "from google.colab import drive\n",
        "drive.mount('/content/drive')"
      ]
    },
    {
      "cell_type": "code",
      "execution_count": null,
      "metadata": {
        "cellView": "form",
        "id": "GkotJX6ngEkp"
      },
      "outputs": [],
      "source": [
        "#@markdown <h3>⬅️Run this cell to mount your drive. Type the name of your drive</h3>\n",
        "drive = \"\" #@param {type:\"string\"}\n",
        "!mkdir /content/drive/\n",
        "!nohup rclone --vfs-cache-mode writes mount \"$drive\": /content/drive &"
      ]
    },
    {
      "cell_type": "code",
      "execution_count": null,
      "metadata": {
        "cellView": "form",
        "id": "W4DvOJaqsGaj"
      },
      "outputs": [],
      "source": [
        "#@markdown <h3>⬅️ Run This Cell to  Move Downloaded Courses to drive\n",
        "#@markdown <h3>Type your destination in your drive\n",
        "path = \"\" #@param {type:\"string\"}\n",
        "!cp -R /content/Skillshare/. \"/content/drive/$path\""
      ]
    }
  ],
  "metadata": {
    "accelerator": "GPU",
    "colab": {
      "provenance": []
    },
    "kernelspec": {
      "display_name": "Python 3.9.11 64-bit",
      "language": "python",
      "name": "python3"
    },
    "language_info": {
      "name": "python",
      "version": "3.9.11"
    },
    "vscode": {
      "interpreter": {
        "hash": "7288e8364ef2c852879442096a1d53f30f4b25f50554477aad9cee9ff4579365"
      }
    }
  },
  "nbformat": 4,
  "nbformat_minor": 0
}
